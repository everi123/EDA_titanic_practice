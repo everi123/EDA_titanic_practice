{
 "cells": [
  {
   "cell_type": "markdown",
   "id": "b58af615",
   "metadata": {
    "papermill": {
     "duration": 0.004319,
     "end_time": "2025-04-05T21:53:27.845190",
     "exception": false,
     "start_time": "2025-04-05T21:53:27.840871",
     "status": "completed"
    },
    "tags": []
   },
   "source": [
    "# **0. Introduction and Objectives:**\n",
    "\n",
    "### Project Goal: to use machine learning to create a model that predicts which passengers survived the Titanic shipwreck while analysing differnt factors that led to our predictor to achive this result"
   ]
  },
  {
   "cell_type": "markdown",
   "id": "fd351727",
   "metadata": {
    "papermill": {
     "duration": 0.003402,
     "end_time": "2025-04-05T21:53:27.852609",
     "exception": false,
     "start_time": "2025-04-05T21:53:27.849207",
     "status": "completed"
    },
    "tags": []
   },
   "source": [
    "# **1. Data loading**"
   ]
  },
  {
   "cell_type": "code",
   "execution_count": 1,
   "id": "c40b1343",
   "metadata": {
    "execution": {
     "iopub.execute_input": "2025-04-05T21:53:27.861454Z",
     "iopub.status.busy": "2025-04-05T21:53:27.861060Z",
     "iopub.status.idle": "2025-04-05T21:53:28.991332Z",
     "shell.execute_reply": "2025-04-05T21:53:28.990302Z"
    },
    "papermill": {
     "duration": 1.136538,
     "end_time": "2025-04-05T21:53:28.992936",
     "exception": false,
     "start_time": "2025-04-05T21:53:27.856398",
     "status": "completed"
    },
    "tags": []
   },
   "outputs": [
    {
     "data": {
      "text/html": [
       "<div>\n",
       "<style scoped>\n",
       "    .dataframe tbody tr th:only-of-type {\n",
       "        vertical-align: middle;\n",
       "    }\n",
       "\n",
       "    .dataframe tbody tr th {\n",
       "        vertical-align: top;\n",
       "    }\n",
       "\n",
       "    .dataframe thead th {\n",
       "        text-align: right;\n",
       "    }\n",
       "</style>\n",
       "<table border=\"1\" class=\"dataframe\">\n",
       "  <thead>\n",
       "    <tr style=\"text-align: right;\">\n",
       "      <th></th>\n",
       "      <th>Passengerid</th>\n",
       "      <th>Age</th>\n",
       "      <th>Fare</th>\n",
       "      <th>Sex</th>\n",
       "      <th>sibsp</th>\n",
       "      <th>zero</th>\n",
       "      <th>zero.1</th>\n",
       "      <th>zero.2</th>\n",
       "      <th>zero.3</th>\n",
       "      <th>zero.4</th>\n",
       "      <th>...</th>\n",
       "      <th>zero.12</th>\n",
       "      <th>zero.13</th>\n",
       "      <th>zero.14</th>\n",
       "      <th>Pclass</th>\n",
       "      <th>zero.15</th>\n",
       "      <th>zero.16</th>\n",
       "      <th>Embarked</th>\n",
       "      <th>zero.17</th>\n",
       "      <th>zero.18</th>\n",
       "      <th>2urvived</th>\n",
       "    </tr>\n",
       "  </thead>\n",
       "  <tbody>\n",
       "    <tr>\n",
       "      <th>0</th>\n",
       "      <td>1</td>\n",
       "      <td>22.0</td>\n",
       "      <td>7.2500</td>\n",
       "      <td>0</td>\n",
       "      <td>1</td>\n",
       "      <td>0</td>\n",
       "      <td>0</td>\n",
       "      <td>0</td>\n",
       "      <td>0</td>\n",
       "      <td>0</td>\n",
       "      <td>...</td>\n",
       "      <td>0</td>\n",
       "      <td>0</td>\n",
       "      <td>0</td>\n",
       "      <td>3</td>\n",
       "      <td>0</td>\n",
       "      <td>0</td>\n",
       "      <td>2.0</td>\n",
       "      <td>0</td>\n",
       "      <td>0</td>\n",
       "      <td>0</td>\n",
       "    </tr>\n",
       "    <tr>\n",
       "      <th>1</th>\n",
       "      <td>2</td>\n",
       "      <td>38.0</td>\n",
       "      <td>71.2833</td>\n",
       "      <td>1</td>\n",
       "      <td>1</td>\n",
       "      <td>0</td>\n",
       "      <td>0</td>\n",
       "      <td>0</td>\n",
       "      <td>0</td>\n",
       "      <td>0</td>\n",
       "      <td>...</td>\n",
       "      <td>0</td>\n",
       "      <td>0</td>\n",
       "      <td>0</td>\n",
       "      <td>1</td>\n",
       "      <td>0</td>\n",
       "      <td>0</td>\n",
       "      <td>0.0</td>\n",
       "      <td>0</td>\n",
       "      <td>0</td>\n",
       "      <td>1</td>\n",
       "    </tr>\n",
       "    <tr>\n",
       "      <th>2</th>\n",
       "      <td>3</td>\n",
       "      <td>26.0</td>\n",
       "      <td>7.9250</td>\n",
       "      <td>1</td>\n",
       "      <td>0</td>\n",
       "      <td>0</td>\n",
       "      <td>0</td>\n",
       "      <td>0</td>\n",
       "      <td>0</td>\n",
       "      <td>0</td>\n",
       "      <td>...</td>\n",
       "      <td>0</td>\n",
       "      <td>0</td>\n",
       "      <td>0</td>\n",
       "      <td>3</td>\n",
       "      <td>0</td>\n",
       "      <td>0</td>\n",
       "      <td>2.0</td>\n",
       "      <td>0</td>\n",
       "      <td>0</td>\n",
       "      <td>1</td>\n",
       "    </tr>\n",
       "    <tr>\n",
       "      <th>3</th>\n",
       "      <td>4</td>\n",
       "      <td>35.0</td>\n",
       "      <td>53.1000</td>\n",
       "      <td>1</td>\n",
       "      <td>1</td>\n",
       "      <td>0</td>\n",
       "      <td>0</td>\n",
       "      <td>0</td>\n",
       "      <td>0</td>\n",
       "      <td>0</td>\n",
       "      <td>...</td>\n",
       "      <td>0</td>\n",
       "      <td>0</td>\n",
       "      <td>0</td>\n",
       "      <td>1</td>\n",
       "      <td>0</td>\n",
       "      <td>0</td>\n",
       "      <td>2.0</td>\n",
       "      <td>0</td>\n",
       "      <td>0</td>\n",
       "      <td>1</td>\n",
       "    </tr>\n",
       "    <tr>\n",
       "      <th>4</th>\n",
       "      <td>5</td>\n",
       "      <td>35.0</td>\n",
       "      <td>8.0500</td>\n",
       "      <td>0</td>\n",
       "      <td>0</td>\n",
       "      <td>0</td>\n",
       "      <td>0</td>\n",
       "      <td>0</td>\n",
       "      <td>0</td>\n",
       "      <td>0</td>\n",
       "      <td>...</td>\n",
       "      <td>0</td>\n",
       "      <td>0</td>\n",
       "      <td>0</td>\n",
       "      <td>3</td>\n",
       "      <td>0</td>\n",
       "      <td>0</td>\n",
       "      <td>2.0</td>\n",
       "      <td>0</td>\n",
       "      <td>0</td>\n",
       "      <td>0</td>\n",
       "    </tr>\n",
       "  </tbody>\n",
       "</table>\n",
       "<p>5 rows × 28 columns</p>\n",
       "</div>"
      ],
      "text/plain": [
       "   Passengerid   Age     Fare  Sex  sibsp  zero  zero.1  zero.2  zero.3  \\\n",
       "0            1  22.0   7.2500    0      1     0       0       0       0   \n",
       "1            2  38.0  71.2833    1      1     0       0       0       0   \n",
       "2            3  26.0   7.9250    1      0     0       0       0       0   \n",
       "3            4  35.0  53.1000    1      1     0       0       0       0   \n",
       "4            5  35.0   8.0500    0      0     0       0       0       0   \n",
       "\n",
       "   zero.4  ...  zero.12  zero.13  zero.14  Pclass  zero.15  zero.16  Embarked  \\\n",
       "0       0  ...        0        0        0       3        0        0       2.0   \n",
       "1       0  ...        0        0        0       1        0        0       0.0   \n",
       "2       0  ...        0        0        0       3        0        0       2.0   \n",
       "3       0  ...        0        0        0       1        0        0       2.0   \n",
       "4       0  ...        0        0        0       3        0        0       2.0   \n",
       "\n",
       "   zero.17  zero.18  2urvived  \n",
       "0        0        0         0  \n",
       "1        0        0         1  \n",
       "2        0        0         1  \n",
       "3        0        0         1  \n",
       "4        0        0         0  \n",
       "\n",
       "[5 rows x 28 columns]"
      ]
     },
     "execution_count": 1,
     "metadata": {},
     "output_type": "execute_result"
    }
   ],
   "source": [
    "import pandas as pd\n",
    "data=pd.read_csv(\"/kaggle/input/titanic/train_and_test2.csv\")\n",
    "data.head()"
   ]
  },
  {
   "cell_type": "markdown",
   "id": "34b0476c",
   "metadata": {
    "papermill": {
     "duration": 0.003651,
     "end_time": "2025-04-05T21:53:29.000904",
     "exception": false,
     "start_time": "2025-04-05T21:53:28.997253",
     "status": "completed"
    },
    "tags": []
   },
   "source": [
    "# **2. Exploratory Data Analysis**\n",
    "\n",
    "## **2.0 EDA Objectives: Titanic Survivor Predictor**\n",
    "\n",
    "The primary goal of this Exploratory Data Analysis (EDA) is to thoroughly understand the Titanic dataset in preparation for building a model that can predict passenger survival. Specifically, this EDA aims to:\n",
    "\n",
    "* **Understand the Characteristics of Each Feature:**\n",
    "    * Analyze the distribution, central tendency, and spread of individual features such as `PassengerId`, `Survived`, `Pclass`, `Name`, `Sex`, `Age`, `SibSp`, `Parch`, `Ticket`, `Fare`, `Cabin`, and `Embarked`.\n",
    "    * Identify the data type of each feature and any potential inconsistencies.\n",
    "    * Gain an initial understanding of the range and variability of values within each feature.\n",
    "\n",
    "* **Identify Missing Values and Outliers:**\n",
    "    * Determine the presence and extent of missing data in each column.\n",
    "    * Analyze the patterns of missingness to understand if it's random or related to other features.\n",
    "    * Detect potential outliers in numerical features like `Age` and `Fare` that might require further investigation or handling.\n",
    "\n",
    "* **Explore Relationships Between Features:**\n",
    "    * Investigate the relationships between different passenger features (e.g., `Pclass` and `Fare`, `Age` and `Pclass`, `SibSp` and `Parch`).\n",
    "    * Analyze correlations between numerical features to identify potential dependencies.\n",
    "    * Examine the relationship between categorical features using cross-tabulations.\n",
    "\n",
    "* **Gain Insights into the Target Variable (`Survived`):**\n",
    "    * Determine the overall survival rate in the dataset.\n",
    "    * Analyze the distribution of survivors and non-survivors across different passenger demographics and characteristics (e.g., by `Sex`, `Pclass`, `Age`, `Embarked`).\n",
    "\n",
    "* **Formulate Initial Hypotheses About Potential Predictors of Survival:**\n",
    "    * Based on the observed relationships, develop initial hypotheses about which features are likely to be strong predictors of survival. For example, \"Passengers in higher classes had a higher survival rate,\" or \"Female passengers were more likely to survive.\"\n",
    "\n",
    "* **Identify Potential Data Quality Issues:**\n",
    "    * Uncover any inconsistencies, errors, or unusual patterns in the data that might need to be addressed during data preprocessing. This could include inconsistent formatting, illogical values, or data entry errors."
   ]
  },
  {
   "cell_type": "markdown",
   "id": "a79b9161",
   "metadata": {
    "execution": {
     "iopub.execute_input": "2025-04-05T21:23:09.951021Z",
     "iopub.status.busy": "2025-04-05T21:23:09.950603Z",
     "iopub.status.idle": "2025-04-05T21:23:09.969801Z",
     "shell.execute_reply": "2025-04-05T21:23:09.968553Z",
     "shell.execute_reply.started": "2025-04-05T21:23:09.950988Z"
    },
    "papermill": {
     "duration": 0.003542,
     "end_time": "2025-04-05T21:53:29.008257",
     "exception": false,
     "start_time": "2025-04-05T21:53:29.004715",
     "status": "completed"
    },
    "tags": []
   },
   "source": [
    "data.tail()"
   ]
  },
  {
   "cell_type": "code",
   "execution_count": 2,
   "id": "8cb9ba68",
   "metadata": {
    "execution": {
     "iopub.execute_input": "2025-04-05T21:53:29.017235Z",
     "iopub.status.busy": "2025-04-05T21:53:29.016809Z",
     "iopub.status.idle": "2025-04-05T21:53:29.022491Z",
     "shell.execute_reply": "2025-04-05T21:53:29.021563Z"
    },
    "papermill": {
     "duration": 0.011863,
     "end_time": "2025-04-05T21:53:29.023935",
     "exception": false,
     "start_time": "2025-04-05T21:53:29.012072",
     "status": "completed"
    },
    "tags": []
   },
   "outputs": [
    {
     "data": {
      "text/plain": [
       "Index(['Passengerid', 'Age', 'Fare', 'Sex', 'sibsp', 'zero', 'zero.1',\n",
       "       'zero.2', 'zero.3', 'zero.4', 'zero.5', 'zero.6', 'Parch', 'zero.7',\n",
       "       'zero.8', 'zero.9', 'zero.10', 'zero.11', 'zero.12', 'zero.13',\n",
       "       'zero.14', 'Pclass', 'zero.15', 'zero.16', 'Embarked', 'zero.17',\n",
       "       'zero.18', '2urvived'],\n",
       "      dtype='object')"
      ]
     },
     "execution_count": 2,
     "metadata": {},
     "output_type": "execute_result"
    }
   ],
   "source": [
    "data.columns"
   ]
  },
  {
   "cell_type": "markdown",
   "id": "0b4f21ec",
   "metadata": {
    "papermill": {
     "duration": 0.003927,
     "end_time": "2025-04-05T21:53:29.032170",
     "exception": false,
     "start_time": "2025-04-05T21:53:29.028243",
     "status": "completed"
    },
    "tags": []
   },
   "source": [
    "Data Dictionary\n",
    "\n",
    "    Passengerid: Unique identifier for each passenger.\n",
    "    Age: Age of the passenger.\n",
    "    Fare: Fare paid by the passenger.\n",
    "    Sex: Gender of the passenger.\n",
    "    sibsp: Number of siblings/spouses aboard.\n",
    "    zero: Placeholder column (potentially unused or for future data).\n",
    "    zero.1: Placeholder column.\n",
    "    zero.2: Placeholder column.\n",
    "    zero.3: Placeholder column.\n",
    "    zero.4: Placeholder column.\n",
    "    zero.5: Placeholder column.\n",
    "    zero.6: Placeholder column.\n",
    "    Parch: Number of parents/children aboard.\n",
    "    zero.7: Placeholder column.\n",
    "    zero.8: Placeholder column.\n",
    "    zero.9: Placeholder column.\n",
    "    zero.10: Placeholder column.\n",
    "    zero.11: Placeholder column.\n",
    "    zero.12: Placeholder column.\n",
    "    zero.13: Placeholder column.\n",
    "    zero.14: Placeholder column.\n",
    "    Pclass: Passenger class (1st, 2nd, or 3rd).\n",
    "    zero.15: Placeholder column.\n",
    "    zero.16: Placeholder column.\n",
    "    Embarked: Port of embarkation (C = Cherbourg; Q = Queenstown; S = Southampton).\n",
    "    zero.17: Placeholder column.\n",
    "    zero.18: Placeholder column.\n",
    "    2urvived: Survival status (0 = No; 1 = Yes).\n"
   ]
  },
  {
   "cell_type": "markdown",
   "id": "551f7f54",
   "metadata": {
    "execution": {
     "iopub.execute_input": "2025-04-05T21:23:17.094870Z",
     "iopub.status.busy": "2025-04-05T21:23:17.094536Z",
     "iopub.status.idle": "2025-04-05T21:23:17.111761Z",
     "shell.execute_reply": "2025-04-05T21:23:17.110127Z",
     "shell.execute_reply.started": "2025-04-05T21:23:17.094846Z"
    },
    "papermill": {
     "duration": 0.003697,
     "end_time": "2025-04-05T21:53:29.039934",
     "exception": false,
     "start_time": "2025-04-05T21:53:29.036237",
     "status": "completed"
    },
    "tags": []
   },
   "source": [
    "data.info()"
   ]
  },
  {
   "cell_type": "code",
   "execution_count": 3,
   "id": "6c8d2fa2",
   "metadata": {
    "execution": {
     "iopub.execute_input": "2025-04-05T21:53:29.049114Z",
     "iopub.status.busy": "2025-04-05T21:53:29.048714Z",
     "iopub.status.idle": "2025-04-05T21:53:29.120880Z",
     "shell.execute_reply": "2025-04-05T21:53:29.119797Z"
    },
    "papermill": {
     "duration": 0.078811,
     "end_time": "2025-04-05T21:53:29.122647",
     "exception": false,
     "start_time": "2025-04-05T21:53:29.043836",
     "status": "completed"
    },
    "tags": []
   },
   "outputs": [
    {
     "data": {
      "text/html": [
       "<div>\n",
       "<style scoped>\n",
       "    .dataframe tbody tr th:only-of-type {\n",
       "        vertical-align: middle;\n",
       "    }\n",
       "\n",
       "    .dataframe tbody tr th {\n",
       "        vertical-align: top;\n",
       "    }\n",
       "\n",
       "    .dataframe thead th {\n",
       "        text-align: right;\n",
       "    }\n",
       "</style>\n",
       "<table border=\"1\" class=\"dataframe\">\n",
       "  <thead>\n",
       "    <tr style=\"text-align: right;\">\n",
       "      <th></th>\n",
       "      <th>Passengerid</th>\n",
       "      <th>Age</th>\n",
       "      <th>Fare</th>\n",
       "      <th>Sex</th>\n",
       "      <th>sibsp</th>\n",
       "      <th>zero</th>\n",
       "      <th>zero.1</th>\n",
       "      <th>zero.2</th>\n",
       "      <th>zero.3</th>\n",
       "      <th>zero.4</th>\n",
       "      <th>...</th>\n",
       "      <th>zero.12</th>\n",
       "      <th>zero.13</th>\n",
       "      <th>zero.14</th>\n",
       "      <th>Pclass</th>\n",
       "      <th>zero.15</th>\n",
       "      <th>zero.16</th>\n",
       "      <th>Embarked</th>\n",
       "      <th>zero.17</th>\n",
       "      <th>zero.18</th>\n",
       "      <th>2urvived</th>\n",
       "    </tr>\n",
       "  </thead>\n",
       "  <tbody>\n",
       "    <tr>\n",
       "      <th>count</th>\n",
       "      <td>1309.000000</td>\n",
       "      <td>1309.000000</td>\n",
       "      <td>1309.000000</td>\n",
       "      <td>1309.000000</td>\n",
       "      <td>1309.000000</td>\n",
       "      <td>1309.0</td>\n",
       "      <td>1309.0</td>\n",
       "      <td>1309.0</td>\n",
       "      <td>1309.0</td>\n",
       "      <td>1309.0</td>\n",
       "      <td>...</td>\n",
       "      <td>1309.0</td>\n",
       "      <td>1309.0</td>\n",
       "      <td>1309.0</td>\n",
       "      <td>1309.000000</td>\n",
       "      <td>1309.0</td>\n",
       "      <td>1309.0</td>\n",
       "      <td>1307.000000</td>\n",
       "      <td>1309.0</td>\n",
       "      <td>1309.0</td>\n",
       "      <td>1309.000000</td>\n",
       "    </tr>\n",
       "    <tr>\n",
       "      <th>mean</th>\n",
       "      <td>655.000000</td>\n",
       "      <td>29.503186</td>\n",
       "      <td>33.281086</td>\n",
       "      <td>0.355997</td>\n",
       "      <td>0.498854</td>\n",
       "      <td>0.0</td>\n",
       "      <td>0.0</td>\n",
       "      <td>0.0</td>\n",
       "      <td>0.0</td>\n",
       "      <td>0.0</td>\n",
       "      <td>...</td>\n",
       "      <td>0.0</td>\n",
       "      <td>0.0</td>\n",
       "      <td>0.0</td>\n",
       "      <td>2.294882</td>\n",
       "      <td>0.0</td>\n",
       "      <td>0.0</td>\n",
       "      <td>1.492731</td>\n",
       "      <td>0.0</td>\n",
       "      <td>0.0</td>\n",
       "      <td>0.261268</td>\n",
       "    </tr>\n",
       "    <tr>\n",
       "      <th>std</th>\n",
       "      <td>378.020061</td>\n",
       "      <td>12.905241</td>\n",
       "      <td>51.741500</td>\n",
       "      <td>0.478997</td>\n",
       "      <td>1.041658</td>\n",
       "      <td>0.0</td>\n",
       "      <td>0.0</td>\n",
       "      <td>0.0</td>\n",
       "      <td>0.0</td>\n",
       "      <td>0.0</td>\n",
       "      <td>...</td>\n",
       "      <td>0.0</td>\n",
       "      <td>0.0</td>\n",
       "      <td>0.0</td>\n",
       "      <td>0.837836</td>\n",
       "      <td>0.0</td>\n",
       "      <td>0.0</td>\n",
       "      <td>0.814626</td>\n",
       "      <td>0.0</td>\n",
       "      <td>0.0</td>\n",
       "      <td>0.439494</td>\n",
       "    </tr>\n",
       "    <tr>\n",
       "      <th>min</th>\n",
       "      <td>1.000000</td>\n",
       "      <td>0.170000</td>\n",
       "      <td>0.000000</td>\n",
       "      <td>0.000000</td>\n",
       "      <td>0.000000</td>\n",
       "      <td>0.0</td>\n",
       "      <td>0.0</td>\n",
       "      <td>0.0</td>\n",
       "      <td>0.0</td>\n",
       "      <td>0.0</td>\n",
       "      <td>...</td>\n",
       "      <td>0.0</td>\n",
       "      <td>0.0</td>\n",
       "      <td>0.0</td>\n",
       "      <td>1.000000</td>\n",
       "      <td>0.0</td>\n",
       "      <td>0.0</td>\n",
       "      <td>0.000000</td>\n",
       "      <td>0.0</td>\n",
       "      <td>0.0</td>\n",
       "      <td>0.000000</td>\n",
       "    </tr>\n",
       "    <tr>\n",
       "      <th>25%</th>\n",
       "      <td>328.000000</td>\n",
       "      <td>22.000000</td>\n",
       "      <td>7.895800</td>\n",
       "      <td>0.000000</td>\n",
       "      <td>0.000000</td>\n",
       "      <td>0.0</td>\n",
       "      <td>0.0</td>\n",
       "      <td>0.0</td>\n",
       "      <td>0.0</td>\n",
       "      <td>0.0</td>\n",
       "      <td>...</td>\n",
       "      <td>0.0</td>\n",
       "      <td>0.0</td>\n",
       "      <td>0.0</td>\n",
       "      <td>2.000000</td>\n",
       "      <td>0.0</td>\n",
       "      <td>0.0</td>\n",
       "      <td>1.000000</td>\n",
       "      <td>0.0</td>\n",
       "      <td>0.0</td>\n",
       "      <td>0.000000</td>\n",
       "    </tr>\n",
       "    <tr>\n",
       "      <th>50%</th>\n",
       "      <td>655.000000</td>\n",
       "      <td>28.000000</td>\n",
       "      <td>14.454200</td>\n",
       "      <td>0.000000</td>\n",
       "      <td>0.000000</td>\n",
       "      <td>0.0</td>\n",
       "      <td>0.0</td>\n",
       "      <td>0.0</td>\n",
       "      <td>0.0</td>\n",
       "      <td>0.0</td>\n",
       "      <td>...</td>\n",
       "      <td>0.0</td>\n",
       "      <td>0.0</td>\n",
       "      <td>0.0</td>\n",
       "      <td>3.000000</td>\n",
       "      <td>0.0</td>\n",
       "      <td>0.0</td>\n",
       "      <td>2.000000</td>\n",
       "      <td>0.0</td>\n",
       "      <td>0.0</td>\n",
       "      <td>0.000000</td>\n",
       "    </tr>\n",
       "    <tr>\n",
       "      <th>75%</th>\n",
       "      <td>982.000000</td>\n",
       "      <td>35.000000</td>\n",
       "      <td>31.275000</td>\n",
       "      <td>1.000000</td>\n",
       "      <td>1.000000</td>\n",
       "      <td>0.0</td>\n",
       "      <td>0.0</td>\n",
       "      <td>0.0</td>\n",
       "      <td>0.0</td>\n",
       "      <td>0.0</td>\n",
       "      <td>...</td>\n",
       "      <td>0.0</td>\n",
       "      <td>0.0</td>\n",
       "      <td>0.0</td>\n",
       "      <td>3.000000</td>\n",
       "      <td>0.0</td>\n",
       "      <td>0.0</td>\n",
       "      <td>2.000000</td>\n",
       "      <td>0.0</td>\n",
       "      <td>0.0</td>\n",
       "      <td>1.000000</td>\n",
       "    </tr>\n",
       "    <tr>\n",
       "      <th>max</th>\n",
       "      <td>1309.000000</td>\n",
       "      <td>80.000000</td>\n",
       "      <td>512.329200</td>\n",
       "      <td>1.000000</td>\n",
       "      <td>8.000000</td>\n",
       "      <td>0.0</td>\n",
       "      <td>0.0</td>\n",
       "      <td>0.0</td>\n",
       "      <td>0.0</td>\n",
       "      <td>0.0</td>\n",
       "      <td>...</td>\n",
       "      <td>0.0</td>\n",
       "      <td>0.0</td>\n",
       "      <td>0.0</td>\n",
       "      <td>3.000000</td>\n",
       "      <td>0.0</td>\n",
       "      <td>0.0</td>\n",
       "      <td>2.000000</td>\n",
       "      <td>0.0</td>\n",
       "      <td>0.0</td>\n",
       "      <td>1.000000</td>\n",
       "    </tr>\n",
       "  </tbody>\n",
       "</table>\n",
       "<p>8 rows × 28 columns</p>\n",
       "</div>"
      ],
      "text/plain": [
       "       Passengerid          Age         Fare          Sex        sibsp  \\\n",
       "count  1309.000000  1309.000000  1309.000000  1309.000000  1309.000000   \n",
       "mean    655.000000    29.503186    33.281086     0.355997     0.498854   \n",
       "std     378.020061    12.905241    51.741500     0.478997     1.041658   \n",
       "min       1.000000     0.170000     0.000000     0.000000     0.000000   \n",
       "25%     328.000000    22.000000     7.895800     0.000000     0.000000   \n",
       "50%     655.000000    28.000000    14.454200     0.000000     0.000000   \n",
       "75%     982.000000    35.000000    31.275000     1.000000     1.000000   \n",
       "max    1309.000000    80.000000   512.329200     1.000000     8.000000   \n",
       "\n",
       "         zero  zero.1  zero.2  zero.3  zero.4  ...  zero.12  zero.13  zero.14  \\\n",
       "count  1309.0  1309.0  1309.0  1309.0  1309.0  ...   1309.0   1309.0   1309.0   \n",
       "mean      0.0     0.0     0.0     0.0     0.0  ...      0.0      0.0      0.0   \n",
       "std       0.0     0.0     0.0     0.0     0.0  ...      0.0      0.0      0.0   \n",
       "min       0.0     0.0     0.0     0.0     0.0  ...      0.0      0.0      0.0   \n",
       "25%       0.0     0.0     0.0     0.0     0.0  ...      0.0      0.0      0.0   \n",
       "50%       0.0     0.0     0.0     0.0     0.0  ...      0.0      0.0      0.0   \n",
       "75%       0.0     0.0     0.0     0.0     0.0  ...      0.0      0.0      0.0   \n",
       "max       0.0     0.0     0.0     0.0     0.0  ...      0.0      0.0      0.0   \n",
       "\n",
       "            Pclass  zero.15  zero.16     Embarked  zero.17  zero.18  \\\n",
       "count  1309.000000   1309.0   1309.0  1307.000000   1309.0   1309.0   \n",
       "mean      2.294882      0.0      0.0     1.492731      0.0      0.0   \n",
       "std       0.837836      0.0      0.0     0.814626      0.0      0.0   \n",
       "min       1.000000      0.0      0.0     0.000000      0.0      0.0   \n",
       "25%       2.000000      0.0      0.0     1.000000      0.0      0.0   \n",
       "50%       3.000000      0.0      0.0     2.000000      0.0      0.0   \n",
       "75%       3.000000      0.0      0.0     2.000000      0.0      0.0   \n",
       "max       3.000000      0.0      0.0     2.000000      0.0      0.0   \n",
       "\n",
       "          2urvived  \n",
       "count  1309.000000  \n",
       "mean      0.261268  \n",
       "std       0.439494  \n",
       "min       0.000000  \n",
       "25%       0.000000  \n",
       "50%       0.000000  \n",
       "75%       1.000000  \n",
       "max       1.000000  \n",
       "\n",
       "[8 rows x 28 columns]"
      ]
     },
     "execution_count": 3,
     "metadata": {},
     "output_type": "execute_result"
    }
   ],
   "source": [
    "data.describe()"
   ]
  },
  {
   "cell_type": "code",
   "execution_count": 4,
   "id": "e89eb4eb",
   "metadata": {
    "execution": {
     "iopub.execute_input": "2025-04-05T21:53:29.133616Z",
     "iopub.status.busy": "2025-04-05T21:53:29.133237Z",
     "iopub.status.idle": "2025-04-05T21:53:29.142415Z",
     "shell.execute_reply": "2025-04-05T21:53:29.141247Z"
    },
    "papermill": {
     "duration": 0.016427,
     "end_time": "2025-04-05T21:53:29.143862",
     "exception": false,
     "start_time": "2025-04-05T21:53:29.127435",
     "status": "completed"
    },
    "tags": []
   },
   "outputs": [
    {
     "data": {
      "text/plain": [
       "2"
      ]
     },
     "execution_count": 4,
     "metadata": {},
     "output_type": "execute_result"
    }
   ],
   "source": [
    "data[\"Sex\"].nunique()"
   ]
  },
  {
   "cell_type": "code",
   "execution_count": 5,
   "id": "193baf55",
   "metadata": {
    "execution": {
     "iopub.execute_input": "2025-04-05T21:53:29.154271Z",
     "iopub.status.busy": "2025-04-05T21:53:29.153878Z",
     "iopub.status.idle": "2025-04-05T21:53:29.160598Z",
     "shell.execute_reply": "2025-04-05T21:53:29.159662Z"
    },
    "papermill": {
     "duration": 0.013489,
     "end_time": "2025-04-05T21:53:29.162079",
     "exception": false,
     "start_time": "2025-04-05T21:53:29.148590",
     "status": "completed"
    },
    "tags": []
   },
   "outputs": [
    {
     "data": {
      "text/plain": [
       "2"
      ]
     },
     "execution_count": 5,
     "metadata": {},
     "output_type": "execute_result"
    }
   ],
   "source": [
    "data.isnull().sum().sum()"
   ]
  },
  {
   "cell_type": "markdown",
   "id": "f784fe3c",
   "metadata": {
    "papermill": {
     "duration": 0.004438,
     "end_time": "2025-04-05T21:53:29.171263",
     "exception": false,
     "start_time": "2025-04-05T21:53:29.166825",
     "status": "completed"
    },
    "tags": []
   },
   "source": [
    "## **2.2 Univariante analysis**"
   ]
  },
  {
   "cell_type": "markdown",
   "id": "f408b261",
   "metadata": {
    "papermill": {
     "duration": 0.004346,
     "end_time": "2025-04-05T21:53:29.180215",
     "exception": false,
     "start_time": "2025-04-05T21:53:29.175869",
     "status": "completed"
    },
    "tags": []
   },
   "source": []
  },
  {
   "cell_type": "code",
   "execution_count": null,
   "id": "8e9f57a4",
   "metadata": {
    "papermill": {
     "duration": 0.004492,
     "end_time": "2025-04-05T21:53:29.189265",
     "exception": false,
     "start_time": "2025-04-05T21:53:29.184773",
     "status": "completed"
    },
    "tags": []
   },
   "outputs": [],
   "source": []
  },
  {
   "cell_type": "code",
   "execution_count": null,
   "id": "4614bb03",
   "metadata": {
    "papermill": {
     "duration": 0.004314,
     "end_time": "2025-04-05T21:53:29.198137",
     "exception": false,
     "start_time": "2025-04-05T21:53:29.193823",
     "status": "completed"
    },
    "tags": []
   },
   "outputs": [],
   "source": []
  },
  {
   "cell_type": "markdown",
   "id": "13edd914",
   "metadata": {
    "papermill": {
     "duration": 0.004347,
     "end_time": "2025-04-05T21:53:29.207114",
     "exception": false,
     "start_time": "2025-04-05T21:53:29.202767",
     "status": "completed"
    },
    "tags": []
   },
   "source": []
  },
  {
   "cell_type": "markdown",
   "id": "1915ce00",
   "metadata": {
    "papermill": {
     "duration": 0.004406,
     "end_time": "2025-04-05T21:53:29.216141",
     "exception": false,
     "start_time": "2025-04-05T21:53:29.211735",
     "status": "completed"
    },
    "tags": []
   },
   "source": []
  },
  {
   "cell_type": "markdown",
   "id": "efa3360e",
   "metadata": {
    "papermill": {
     "duration": 0.004323,
     "end_time": "2025-04-05T21:53:29.225008",
     "exception": false,
     "start_time": "2025-04-05T21:53:29.220685",
     "status": "completed"
    },
    "tags": []
   },
   "source": []
  },
  {
   "cell_type": "markdown",
   "id": "e226834e",
   "metadata": {
    "papermill": {
     "duration": 0.004581,
     "end_time": "2025-04-05T21:53:29.234200",
     "exception": false,
     "start_time": "2025-04-05T21:53:29.229619",
     "status": "completed"
    },
    "tags": []
   },
   "source": []
  },
  {
   "cell_type": "code",
   "execution_count": null,
   "id": "a3476fec",
   "metadata": {
    "papermill": {
     "duration": 0.004637,
     "end_time": "2025-04-05T21:53:29.243544",
     "exception": false,
     "start_time": "2025-04-05T21:53:29.238907",
     "status": "completed"
    },
    "tags": []
   },
   "outputs": [],
   "source": []
  }
 ],
 "metadata": {
  "kaggle": {
   "accelerator": "none",
   "dataSources": [
    {
     "datasetId": 1275,
     "sourceId": 2286,
     "sourceType": "datasetVersion"
    }
   ],
   "dockerImageVersionId": 30918,
   "isGpuEnabled": false,
   "isInternetEnabled": true,
   "language": "python",
   "sourceType": "notebook"
  },
  "kernelspec": {
   "display_name": "Python 3",
   "language": "python",
   "name": "python3"
  },
  "language_info": {
   "codemirror_mode": {
    "name": "ipython",
    "version": 3
   },
   "file_extension": ".py",
   "mimetype": "text/x-python",
   "name": "python",
   "nbconvert_exporter": "python",
   "pygments_lexer": "ipython3",
   "version": "3.10.12"
  },
  "papermill": {
   "default_parameters": {},
   "duration": 4.889241,
   "end_time": "2025-04-05T21:53:29.868165",
   "environment_variables": {},
   "exception": null,
   "input_path": "__notebook__.ipynb",
   "output_path": "__notebook__.ipynb",
   "parameters": {},
   "start_time": "2025-04-05T21:53:24.978924",
   "version": "2.6.0"
  }
 },
 "nbformat": 4,
 "nbformat_minor": 5
}
